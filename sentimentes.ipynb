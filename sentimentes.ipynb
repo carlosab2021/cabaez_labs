{
 "cells": [
  {
   "cell_type": "code",
   "execution_count": null,
   "metadata": {},
   "outputs": [],
   "source": [
    "from textblob import TextBlob\n",
    "import pandas as pd\n",
    "\n",
    "# Definir una función para realizar el análisis de sentimiento\n",
    "def analyze_sentiment(review):\n",
    "    analysis = TextBlob(str(review))  # Asegúrate de que review sea una cadena de texto\n",
    "    if analysis.sentiment.polarity < 0:\n",
    "        return 0  # Negativo\n",
    "    elif analysis.sentiment.polarity == 0:\n",
    "        return 1  # Neutral\n",
    "    else:\n",
    "        return 2  # Positivo\n",
    "\n",
    "# Cargar el conjunto de datos en un DataFrame\n",
    "df_nuevo = pd.read_csv('nueva_base_de_datos4.csv')  # Reemplaza 'tu_archivo.csv' con tu archivo real\n",
    "\n",
    "# Aplicar la función a cada revisión individual y crear la nueva columna 'sentiment_analysis'\n",
    "df_nuevo['sentiment_analysis'] = df_nuevo['review_text'].apply(analyze_sentiment)\n",
    "\n",
    "df_nuevo.drop(columns=['review_text'], inplace=True)\n",
    "\n",
    "# Guardar el DataFrame actualizado en un nuevo archivo CSV si es necesario\n",
    "df_nuevo.to_csv('sentiment2.csv', index=False)\n"
   ]
  },
  {
   "cell_type": "code",
   "execution_count": null,
   "metadata": {},
   "outputs": [],
   "source": [
    "import pandas as pd\n",
    "\n",
    "# Cargar el DataFrame con los sentimientos calculados\n",
    "df_nuevo = pd.read_csv('sentiment2.csv')  # Reemplaza 'sentiment2.csv' con tu archivo real\n",
    "\n",
    "# Contar la cantidad de revisiones por cada tipo de sentimiento\n",
    "sentiment_counts = df_nuevo['sentiment_analysis'].value_counts()\n",
    "\n",
    "# Imprimir el resultado\n",
    "print(\"Cantidad de revisiones por tipo de sentimiento:\")\n",
    "print(sentiment_counts)\n"
   ]
  }
 ],
 "metadata": {
  "language_info": {
   "name": "python"
  },
  "orig_nbformat": 4
 },
 "nbformat": 4,
 "nbformat_minor": 2
}
